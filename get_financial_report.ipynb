{
 "cells": [
  {
   "cell_type": "code",
   "execution_count": 2,
   "id": "350733b1",
   "metadata": {},
   "outputs": [],
   "source": [
    "from utils.excel_handler import get_and_export_financial_report"
   ]
  },
  {
   "cell_type": "code",
   "execution_count": 14,
   "id": "1746591e",
   "metadata": {},
   "outputs": [
    {
     "name": "stdout",
     "output_type": "stream",
     "text": [
      "Getting BBRI annual financial report for period: [2016, 2017, 2018, 2019, 2020, 2021, 2022, 2023, 2024, 2025]\n",
      "Downloading BBRI report for [2016, 2017, 2018, 2019, 2020, 2021, 2022, 2023, 2024, 2025]...\n",
      "[DOWNLOAD] Downloading from https://www.idx.co.id/Portals/0/StaticData/ListedCompanies/Corporate_Actions/New_Info_JSX/Jenis_Informasi/01_Laporan_Keuangan/02_Soft_Copy_Laporan_Keuangan//Laporan%20Keuangan%20Tahun%202016/AUDIT/BBRI/instance.zip\n",
      "[FAILED] Failed to download excel file for ./data/BBRI/BBRI-2016-FY: HTTP Error 503: Service Unavailable\n",
      "[DOWNLOAD] Downloading from https://www.idx.co.id/Portals/0/StaticData/ListedCompanies/Corporate_Actions/New_Info_JSX/Jenis_Informasi/01_Laporan_Keuangan/02_Soft_Copy_Laporan_Keuangan//Laporan%20Keuangan%20Tahun%202017/AUDIT/BBRI/instance.zip\n",
      "[FAILED] Failed to download excel file for ./data/BBRI/BBRI-2017-FY: HTTP Error 503: Service Unavailable\n",
      "[DOWNLOAD] Downloading from https://www.idx.co.id/Portals/0/StaticData/ListedCompanies/Corporate_Actions/New_Info_JSX/Jenis_Informasi/01_Laporan_Keuangan/02_Soft_Copy_Laporan_Keuangan//Laporan%20Keuangan%20Tahun%202018/AUDIT/BBRI/instance.zip\n",
      "[FAILED] Failed to download excel file for ./data/BBRI/BBRI-2018-FY: HTTP Error 503: Service Unavailable\n",
      "[PASS] ./data/BBRI/BBRI-2019-FY File Already Exists..\n",
      "[PASS] ./data/BBRI/BBRI-2020-FY File Already Exists..\n",
      "[PASS] ./data/BBRI/BBRI-2021-FY File Already Exists..\n",
      "[PASS] ./data/BBRI/BBRI-2022-FY File Already Exists..\n",
      "[PASS] ./data/BBRI/BBRI-2023-FY File Already Exists..\n",
      "[PASS] ./data/BBRI/BBRI-2024-FY File Already Exists..\n",
      "[DOWNLOAD] Downloading from https://www.idx.co.id/Portals/0/StaticData/ListedCompanies/Corporate_Actions/New_Info_JSX/Jenis_Informasi/01_Laporan_Keuangan/02_Soft_Copy_Laporan_Keuangan//Laporan%20Keuangan%20Tahun%202025/AUDIT/BBRI/instance.zip\n",
      "[FAILED] Failed to download excel file for ./data/BBRI/BBRI-2025-FY: HTTP Error 503: Service Unavailable\n",
      "Reading ./data/BBRI/BBRI-2024-FY/instance.xbrl...\n",
      "Reading ./data/BBRI/BBRI-2019-FY/instance.xbrl...\n",
      "2 Year Prior not found..\n",
      "Old schema.. joining with the mapping df\n",
      "Reading ./data/BBRI/BBRI-2020-FY/instance.xbrl...\n",
      "2 Year Prior not found..\n",
      "Old schema.. joining with the mapping df\n",
      "Reading ./data/BBRI/BBRI-2021-FY/instance.xbrl...\n",
      "2 Year Prior not found..\n",
      "Old schema.. joining with the mapping df\n",
      "Reading ./data/BBRI/BBRI-2022-FY/instance.xbrl...\n",
      "Old schema.. joining with the mapping df\n",
      "Reading ./data/BBRI/BBRI-2023-FY/instance.xbrl...\n",
      "Old schema.. joining with the mapping df\n",
      "Reading ./data/BBRI/BBRI-2024-FY/instance.xbrl...\n",
      "Industry is Keuangan dan Syariah / Financial and Sharia\n",
      "Getting General Info table....\n"
     ]
    },
    {
     "name": "stderr",
     "output_type": "stream",
     "text": [
      "/opt/anaconda3/lib/python3.11/site-packages/openpyxl/reader/excel.py:228: UserWarning: Data Validation extension is not supported and will be removed\n",
      "  ws_parser.bind_all()\n"
     ]
    },
    {
     "name": "stdout",
     "output_type": "stream",
     "text": [
      "Getting Balance Sheet table....\n",
      "Getting Income Statement table....\n"
     ]
    },
    {
     "ename": "ValueError",
     "evalue": "11.0 is not a valid coordinate or range",
     "output_type": "error",
     "traceback": [
      "\u001b[0;31m---------------------------------------------------------------------------\u001b[0m",
      "\u001b[0;31mValueError\u001b[0m                                Traceback (most recent call last)",
      "Cell \u001b[0;32mIn[14], line 5\u001b[0m\n\u001b[1;32m      2\u001b[0m years \u001b[38;5;241m=\u001b[39m [\u001b[38;5;241m2016\u001b[39m, \u001b[38;5;241m2017\u001b[39m, \u001b[38;5;241m2018\u001b[39m, \u001b[38;5;241m2019\u001b[39m,\u001b[38;5;241m2020\u001b[39m, \u001b[38;5;241m2021\u001b[39m, \u001b[38;5;241m2022\u001b[39m, \u001b[38;5;241m2023\u001b[39m, \u001b[38;5;241m2024\u001b[39m, \u001b[38;5;241m2025\u001b[39m]\n\u001b[1;32m      3\u001b[0m quarterly \u001b[38;5;241m=\u001b[39m \u001b[38;5;28;01mFalse\u001b[39;00m\n\u001b[0;32m----> 5\u001b[0m get_and_export_financial_report(stock_code\u001b[38;5;241m=\u001b[39mstock_code,\n\u001b[1;32m      6\u001b[0m                                 years\u001b[38;5;241m=\u001b[39myears,\n\u001b[1;32m      7\u001b[0m                                 quarterly\u001b[38;5;241m=\u001b[39mquarterly,\n\u001b[1;32m      8\u001b[0m                                 convert_billion_idr\u001b[38;5;241m=\u001b[39m\u001b[38;5;28;01mTrue\u001b[39;00m,\n\u001b[1;32m      9\u001b[0m                                 convert_million_usd\u001b[38;5;241m=\u001b[39m\u001b[38;5;28;01mTrue\u001b[39;00m)\n",
      "File \u001b[0;32m~/Documents/R PROJECT (30 Mar 2024)/idx_financial_statement/utils/excel_handler.py:925\u001b[0m, in \u001b[0;36mget_and_export_financial_report\u001b[0;34m(stock_code, years, quarterly, convert_billion_idr, convert_million_usd)\u001b[0m\n\u001b[1;32m    916\u001b[0m     export_general_report_to_excel(\n\u001b[1;32m    917\u001b[0m         stock_code\u001b[38;5;241m=\u001b[39mstock_code,\n\u001b[1;32m    918\u001b[0m         df\u001b[38;5;241m=\u001b[39mcombined_df,\n\u001b[0;32m   (...)\u001b[0m\n\u001b[1;32m    922\u001b[0m         convert_billion_idr\u001b[38;5;241m=\u001b[39mconvert_billion_idr,\n\u001b[1;32m    923\u001b[0m         convert_million_usd\u001b[38;5;241m=\u001b[39mconvert_million_usd)\n\u001b[1;32m    924\u001b[0m \u001b[38;5;28;01melif\u001b[39;00m \u001b[38;5;124m\"\u001b[39m\u001b[38;5;124mFinancial\u001b[39m\u001b[38;5;124m\"\u001b[39m \u001b[38;5;129;01min\u001b[39;00m main_industry:\n\u001b[0;32m--> 925\u001b[0m     export_finance_report_to_excel(\n\u001b[1;32m    926\u001b[0m         stock_code\u001b[38;5;241m=\u001b[39mstock_code,\n\u001b[1;32m    927\u001b[0m         df\u001b[38;5;241m=\u001b[39mcombined_df,\n\u001b[1;32m    928\u001b[0m         workbook_path\u001b[38;5;241m=\u001b[39m\u001b[38;5;124m'\u001b[39m\u001b[38;5;124m./template/Financial_Company_Template.xlsx\u001b[39m\u001b[38;5;124m'\u001b[39m,\n\u001b[1;32m    929\u001b[0m         id_availability_dict\u001b[38;5;241m=\u001b[39mid_availability_dict,\n\u001b[1;32m    930\u001b[0m         quarterly\u001b[38;5;241m=\u001b[39mquarterly,\n\u001b[1;32m    931\u001b[0m         convert_billion_idr\u001b[38;5;241m=\u001b[39m\u001b[38;5;28;01mTrue\u001b[39;00m,\n\u001b[1;32m    932\u001b[0m         convert_million_usd\u001b[38;5;241m=\u001b[39m\u001b[38;5;28;01mTrue\u001b[39;00m)\n",
      "File \u001b[0;32m~/Documents/R PROJECT (30 Mar 2024)/idx_financial_statement/utils/excel_handler.py:664\u001b[0m, in \u001b[0;36mexport_finance_report_to_excel\u001b[0;34m(stock_code, df, workbook_path, id_availability_dict, quarterly, convert_billion_idr, convert_million_usd)\u001b[0m\n\u001b[1;32m    656\u001b[0m \u001b[38;5;28;01mif\u001b[39;00m id_availability_dict[\u001b[38;5;124m'\u001b[39m\u001b[38;5;124m4312000\u001b[39m\u001b[38;5;124m'\u001b[39m] \u001b[38;5;129;01mor\u001b[39;00m id_availability_dict[\u001b[38;5;124m'\u001b[39m\u001b[38;5;124m4322000\u001b[39m\u001b[38;5;124m'\u001b[39m] \u001b[38;5;129;01mor\u001b[39;00m id_availability_dict[\u001b[38;5;124m'\u001b[39m\u001b[38;5;124m1312000\u001b[39m\u001b[38;5;124m'\u001b[39m]:\n\u001b[1;32m    657\u001b[0m     is_df \u001b[38;5;241m=\u001b[39m get_finance_financial_table(\n\u001b[1;32m    658\u001b[0m         combined_df\u001b[38;5;241m=\u001b[39mdf,\n\u001b[1;32m    659\u001b[0m         name_mapping_path\u001b[38;5;241m=\u001b[39m\u001b[38;5;124m'\u001b[39m\u001b[38;5;124m./schema/finance_income_statement_4312000.csv\u001b[39m\u001b[38;5;124m'\u001b[39m,\n\u001b[1;32m    660\u001b[0m         table_type\u001b[38;5;241m=\u001b[39m\u001b[38;5;124m\"\u001b[39m\u001b[38;5;124mincome_statement\u001b[39m\u001b[38;5;124m\"\u001b[39m,\n\u001b[1;32m    661\u001b[0m         convert_billion_idr\u001b[38;5;241m=\u001b[39m\u001b[38;5;28;01mTrue\u001b[39;00m,\n\u001b[1;32m    662\u001b[0m         convert_million_usd\u001b[38;5;241m=\u001b[39m\u001b[38;5;28;01mTrue\u001b[39;00m)\n\u001b[0;32m--> 664\u001b[0m     processed_wb \u001b[38;5;241m=\u001b[39m export_to_excel_template(df\u001b[38;5;241m=\u001b[39mis_df,\n\u001b[1;32m    665\u001b[0m                                             workbook\u001b[38;5;241m=\u001b[39mprocessed_wb,\n\u001b[1;32m    666\u001b[0m                                             sheet_name\u001b[38;5;241m=\u001b[39m\u001b[38;5;124m'\u001b[39m\u001b[38;5;124mINCOME STATEMENT\u001b[39m\u001b[38;5;124m'\u001b[39m)\n\u001b[1;32m    668\u001b[0m     \u001b[38;5;28;01mif\u001b[39;00m quarterly:\n\u001b[1;32m    669\u001b[0m         is_quarterly_df \u001b[38;5;241m=\u001b[39m convert_cumulative_to_quarterly(is_df)\n",
      "File \u001b[0;32m~/Documents/R PROJECT (30 Mar 2024)/idx_financial_statement/utils/excel_handler.py:53\u001b[0m, in \u001b[0;36mexport_to_excel_template\u001b[0;34m(df, sheet_name, workbook, workbook_path)\u001b[0m\n\u001b[1;32m     50\u001b[0m to_be_filled_value \u001b[38;5;241m=\u001b[39m row\u001b[38;5;241m.\u001b[39mto_list()\n\u001b[1;32m     51\u001b[0m to_be_filled_year \u001b[38;5;241m=\u001b[39m row\u001b[38;5;241m.\u001b[39mindex\u001b[38;5;241m.\u001b[39mto_list()\n\u001b[0;32m---> 53\u001b[0m all_columns \u001b[38;5;241m=\u001b[39m ws[\u001b[38;5;124mf\u001b[39m\u001b[38;5;124m'\u001b[39m\u001b[38;5;132;01m{\u001b[39;00mto_be_filled_row\u001b[38;5;132;01m}\u001b[39;00m\u001b[38;5;124m'\u001b[39m]\n\u001b[1;32m     55\u001b[0m first_blank_column \u001b[38;5;241m=\u001b[39m \u001b[38;5;28;01mNone\u001b[39;00m\n\u001b[1;32m     56\u001b[0m \u001b[38;5;28;01mfor\u001b[39;00m column \u001b[38;5;129;01min\u001b[39;00m all_columns:\n",
      "File \u001b[0;32m/opt/anaconda3/lib/python3.11/site-packages/openpyxl/worksheet/worksheet.py:290\u001b[0m, in \u001b[0;36mWorksheet.__getitem__\u001b[0;34m(self, key)\u001b[0m\n\u001b[1;32m    287\u001b[0m \u001b[38;5;28;01mif\u001b[39;00m \u001b[38;5;28misinstance\u001b[39m(key, \u001b[38;5;28mint\u001b[39m):\n\u001b[1;32m    288\u001b[0m     key \u001b[38;5;241m=\u001b[39m \u001b[38;5;28mstr\u001b[39m(key\n\u001b[1;32m    289\u001b[0m               )\n\u001b[0;32m--> 290\u001b[0m min_col, min_row, max_col, max_row \u001b[38;5;241m=\u001b[39m range_boundaries(key)\n\u001b[1;32m    292\u001b[0m \u001b[38;5;28;01mif\u001b[39;00m \u001b[38;5;129;01mnot\u001b[39;00m \u001b[38;5;28many\u001b[39m([min_col, min_row, max_col, max_row]):\n\u001b[1;32m    293\u001b[0m     \u001b[38;5;28;01mraise\u001b[39;00m \u001b[38;5;167;01mIndexError\u001b[39;00m(\u001b[38;5;124m\"\u001b[39m\u001b[38;5;132;01m{0}\u001b[39;00m\u001b[38;5;124m is not a valid coordinate or range\u001b[39m\u001b[38;5;124m\"\u001b[39m\u001b[38;5;241m.\u001b[39mformat(key))\n",
      "File \u001b[0;32m/opt/anaconda3/lib/python3.11/site-packages/openpyxl/utils/cell.py:135\u001b[0m, in \u001b[0;36mopenpyxl.utils.cell.range_boundaries\u001b[0;34m()\u001b[0m\n",
      "\u001b[0;31mValueError\u001b[0m: 11.0 is not a valid coordinate or range"
     ]
    }
   ],
   "source": [
    "stock_code = 'BBRI'\n",
    "years = [2016, 2017, 2018, 2019,2020, 2021, 2022, 2023, 2024, 2025]\n",
    "quarterly = False\n",
    "\n",
    "get_and_export_financial_report(stock_code=stock_code,\n",
    "                                years=years,\n",
    "                                quarterly=quarterly,\n",
    "                                convert_billion_idr=True,\n",
    "                                convert_million_usd=True)"
   ]
  }
 ],
 "metadata": {
  "kernelspec": {
   "display_name": "base",
   "language": "python",
   "name": "python3"
  },
  "language_info": {
   "codemirror_mode": {
    "name": "ipython",
    "version": 3
   },
   "file_extension": ".py",
   "mimetype": "text/x-python",
   "name": "python",
   "nbconvert_exporter": "python",
   "pygments_lexer": "ipython3",
   "version": "3.11.7"
  }
 },
 "nbformat": 4,
 "nbformat_minor": 5
}
